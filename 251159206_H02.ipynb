{
 "cells": [
  {
   "cell_type": "markdown",
   "metadata": {
    "id": "twKpLeRhDeyQ"
   },
   "source": [
    "# Homework 2\n",
    "\n",
    "## Follow These Steps Before Submitting\n",
    "Once you are finished, ensure to complete the following steps.\n",
    "\n",
    "1.  Restart your kernel by clicking 'Kernel' > 'Restart & Run All'.\n",
    "\n",
    "2.  Fix any errors which result from this.\n",
    "\n",
    "3.  Repeat steps 1. and 2. until your notebook runs without errors.\n",
    "\n",
    "4.  Submit your completed notebook to OWL by the deadline.\n"
   ]
  },
  {
   "cell_type": "markdown",
   "metadata": {
    "id": "waD8EZwFMt1U"
   },
   "source": [
    "# 1. Fridge Light Failure\n",
    "\n",
    "Imagine that you work for a company that sells fridges, with a lifetime warranty for the fridge lights. Your boss is interested in understanding the distribution of the number of lights that will fail in a given month, based on data collected over the last several years. The data were collected by hand and manually entered, so data entry errors are possible. There are also some months with missing data."
   ]
  },
  {
   "cell_type": "code",
   "execution_count": 1,
   "metadata": {
    "id": "zJdm6Uxlq-kc"
   },
   "outputs": [],
   "source": [
    "import pandas as pd\n",
    "import matplotlib.pyplot as plt\n",
    "import seaborn as sns\n",
    "import numpy as np\n",
    "%matplotlib inline\n",
    "\n",
    "from scipy.stats import zscore\n",
    "from scipy.special import factorial\n",
    "import scipy.optimize as so"
   ]
  },
  {
   "cell_type": "code",
   "execution_count": 2,
   "metadata": {
    "id": "nKQxNU4X6i3I"
   },
   "outputs": [],
   "source": [
    "# Uncomment the line below if you are using Google colab\n",
    "# !gdown https://drive.google.com/uc?id=1wzY4XdkcwdNdVGL42PEN0ORtzWcdj2VF"
   ]
  },
  {
   "cell_type": "markdown",
   "metadata": {
    "id": "tTKdVYZLGm-b"
   },
   "source": [
    "1. Read the CSV file using Pandas and store it. All you've been given are a meaningless ID and the counts of the number of fridge lights that failed in each month."
   ]
  },
  {
   "cell_type": "code",
   "execution_count": 3,
   "metadata": {
    "id": "Wj-Yl2t5JW0Y"
   },
   "outputs": [
    {
     "data": {
      "text/html": [
       "<div>\n",
       "<style scoped>\n",
       "    .dataframe tbody tr th:only-of-type {\n",
       "        vertical-align: middle;\n",
       "    }\n",
       "\n",
       "    .dataframe tbody tr th {\n",
       "        vertical-align: top;\n",
       "    }\n",
       "\n",
       "    .dataframe thead th {\n",
       "        text-align: right;\n",
       "    }\n",
       "</style>\n",
       "<table border=\"1\" class=\"dataframe\">\n",
       "  <thead>\n",
       "    <tr style=\"text-align: right;\">\n",
       "      <th></th>\n",
       "      <th>ID</th>\n",
       "      <th>x</th>\n",
       "    </tr>\n",
       "  </thead>\n",
       "  <tbody>\n",
       "    <tr>\n",
       "      <th>0</th>\n",
       "      <td>1</td>\n",
       "      <td>24.0</td>\n",
       "    </tr>\n",
       "    <tr>\n",
       "      <th>1</th>\n",
       "      <td>2</td>\n",
       "      <td>33.0</td>\n",
       "    </tr>\n",
       "    <tr>\n",
       "      <th>2</th>\n",
       "      <td>3</td>\n",
       "      <td>31.0</td>\n",
       "    </tr>\n",
       "    <tr>\n",
       "      <th>3</th>\n",
       "      <td>4</td>\n",
       "      <td>NaN</td>\n",
       "    </tr>\n",
       "    <tr>\n",
       "      <th>4</th>\n",
       "      <td>5</td>\n",
       "      <td>31.0</td>\n",
       "    </tr>\n",
       "  </tbody>\n",
       "</table>\n",
       "</div>"
      ],
      "text/plain": [
       "   ID     x\n",
       "0   1  24.0\n",
       "1   2  33.0\n",
       "2   3  31.0\n",
       "3   4   NaN\n",
       "4   5  31.0"
      ]
     },
     "execution_count": 3,
     "metadata": {},
     "output_type": "execute_result"
    }
   ],
   "source": [
    "fridgedata = pd.read_csv(\"Fridge Light Data.csv\")\n",
    "fridgedata.head()"
   ]
  },
  {
   "cell_type": "markdown",
   "metadata": {
    "id": "1tw6pJdOcY_k"
   },
   "source": [
    "2. Count the number of null values in the dataset, then remove them."
   ]
  },
  {
   "cell_type": "code",
   "execution_count": null,
   "metadata": {
    "id": "CwASQWPl87ye"
   },
   "outputs": [],
   "source": [
    "fridgedata.isnull().sum() # 4 initial null values\n",
    "fridgedata.dropna(inplace=True)"
   ]
  },
  {
   "cell_type": "markdown",
   "metadata": {
    "id": "CT6peESUdtd7"
   },
   "source": [
    "Number of null values: 4"
   ]
  },
  {
   "cell_type": "markdown",
   "metadata": {
    "id": "GR9-bjxqcZ_V"
   },
   "source": [
    "3. Plot the distribution of the data. Add a title and axes labels to your plot."
   ]
  },
  {
   "cell_type": "code",
   "execution_count": 5,
   "metadata": {
    "id": "uKXVS9DWcaPy"
   },
   "outputs": [
    {
     "data": {
      "text/plain": [
       "Text(0.5, 1.0, 'Distribution of fridge light failures in each month')"
      ]
     },
     "execution_count": 5,
     "metadata": {},
     "output_type": "execute_result"
    },
    {
     "data": {
      "image/png": "[encoded data removed]",
      "text/plain": [
       "<Figure size 500x500 with 1 Axes>"
      ]
     },
     "metadata": {},
     "output_type": "display_data"
    }
   ],
   "source": [
    "sns.set_theme(color_codes=True)\n",
    "sns.displot(data=fridgedata, x = fridgedata[\"x\"], kind = 'kde')\n",
    "plt.title(\"Distribution of fridge light failures in each month\")"
   ]
  },
  {
   "cell_type": "markdown",
   "metadata": {
    "id": "EtcPq8KBcaay"
   },
   "source": [
    "4. Count the number of observations that you know with **certainty** are data entry errors, then remove them. Explain why you know they are errors."
   ]
  },
  {
   "cell_type": "code",
   "execution_count": 6,
   "metadata": {
    "id": "rjv1ibFJcaml"
   },
   "outputs": [],
   "source": [
    "(fridgedata[\"x\"] < 0).sum() # 3 entries that are negative\n",
    "fridgedata.drop(fridgedata[fridgedata.x < 0].index, inplace=True)"
   ]
  },
  {
   "cell_type": "markdown",
   "metadata": {
    "id": "2sABGG8Jdx01"
   },
   "source": [
    "Number of certain data entry errors: 3 negative counts. I know they are errors because it is impossible to count negative numbers of a fridge light not working."
   ]
  },
  {
   "cell_type": "markdown",
   "metadata": {
    "id": "lZdbfE4xca3N"
   },
   "source": [
    "5. Compute the negative log-likelihood based on the assumption that the data comes from a Poisson($\\lambda$) distribution. The negative log-likelihood for a Poisson($\\lambda$) distribution is as follows:\n",
    "\n",
    "$$\n",
    "nll(\\lambda) = n \\lambda - \\left(\\sum_{i=1}^{n}x_i\\right) log(\\lambda) + \\sum_{i=1}^{n}log(x_i!)\n",
    "$$"
   ]
  },
  {
   "cell_type": "code",
   "execution_count": 7,
   "metadata": {
    "id": "7uJMxQGycbDO"
   },
   "outputs": [
    {
     "data": {
      "text/plain": [
       "np.float64(31.189286095130285)"
      ]
     },
     "execution_count": 7,
     "metadata": {},
     "output_type": "execute_result"
    }
   ],
   "source": [
    "def poissonNegLogLikelihood(lamb, data):\n",
    "    negloglike = len(data)*lamb - (np.sum(data))*(np.log(lamb)) + np.sum(np.log(factorial(data)))\n",
    "    return negloglike\n",
    "\n",
    "\n",
    "#test your function on a dummy dataset with lambda = 25\n",
    "dummy_data = pd.DataFrame({'x': [20, 22, 18, 6, 8]})\n",
    "poissonNegLogLikelihood(25, dummy_data.x)\n"
   ]
  },
  {
   "cell_type": "markdown",
   "metadata": {
    "id": "OC7LOJ30cbR-"
   },
   "source": [
    "6. Consider integer values of $\\lambda$ ranging from 10 to 50. Compute the negative log-likelihood for each of these values and plot it. Include a title and axes labels on your plot. Based on the plot, what value of $\\lambda$ is most likely to have generated the data? You may give a small range."
   ]
  },
  {
   "cell_type": "code",
   "execution_count": 8,
   "metadata": {
    "id": "69wIHdAMHbC2"
   },
   "outputs": [
    {
     "data": {
      "image/png": "[encoded data removed]",
      "text/plain": [
       "<Figure size 640x480 with 1 Axes>"
      ]
     },
     "metadata": {},
     "output_type": "display_data"
    }
   ],
   "source": [
    "listofNegLL = []\n",
    "for i in range(10, 51):\n",
    "    NegLL = poissonNegLogLikelihood(i, fridgedata.x)\n",
    "    listofNegLL.append(NegLL)\n",
    "    \n",
    "plt.plot(range(10,51), listofNegLL)\n",
    "plt.xlabel(\"Lambda values\")\n",
    "plt.ylabel(\"Negative Log-Likelihood\")\n",
    "plt.title(\"Lambda values and their negative log-likelihood in a poisson distribution for fridge light data\")\n",
    "plt.show()\n",
    "    \n"
   ]
  },
  {
   "cell_type": "markdown",
   "metadata": {
    "id": "P6tS_3vGeFlh"
   },
   "source": [
    "Value of $\\lambda$ most likely to have generated the data: between 25 and 35, centered at approximately 30"
   ]
  },
  {
   "cell_type": "markdown",
   "metadata": {
    "id": "SewZahEGdIAc"
   },
   "source": [
    "7. Compute the negative log-likelihood based on the assumption that the data comes from a Normal($\\mu$, $\\sigma$) distribution. The negative log-likelihood for a Normal($\\mu$, $\\sigma$) distribution is as follows:\n",
    "\n",
    "$$\n",
    "nll(\\mu, \\sigma) = \\frac{n}{2}log(2π) + \\frac{n}{2}log(\\sigma^2) + \\frac{1}{2\\sigma^2}\\sum_{i=1}^{n}(x_i-\\mu)^2\n",
    "$$"
   ]
  },
  {
   "cell_type": "code",
   "execution_count": 9,
   "metadata": {
    "id": "ZbiJAR7UdIoO"
   },
   "outputs": [
    {
     "data": {
      "text/plain": [
       "np.float64(50.80997633158613)"
      ]
     },
     "execution_count": 9,
     "metadata": {},
     "output_type": "execute_result"
    }
   ],
   "source": [
    "\n",
    "def normalNegLogLikelihood(param, data):\n",
    "    normloglike = (len(data)/2) * (np.log(2*np.pi) + np.log((param[1])**2)) + (np.sum((data - param[0])**2))/(2*(param[1])**2)\n",
    "    return normloglike\n",
    "\n",
    "\n",
    "\n",
    "#test your function on a dummy dataset with mu = 25, sigma = 3\n",
    "dummy_data = pd.DataFrame({'x': [20, 22, 18, 6, 8]})\n",
    "normalNegLogLikelihood([25, 3], dummy_data.x)"
   ]
  },
  {
   "cell_type": "markdown",
   "metadata": {
    "id": "D_eHDa6hdI6S"
   },
   "source": [
    "8. Determine the exact value of $\\lambda$ that minimizes the negative log-likelihood for the Poisson distribution. Use so.minimize with method=\"Powell\" and without a Jacobian."
   ]
  },
  {
   "cell_type": "code",
   "execution_count": 10,
   "metadata": {
    "id": "218CrADmdJJG"
   },
   "outputs": [
    {
     "data": {
      "text/plain": [
       "array([30.82000019])"
      ]
     },
     "execution_count": 10,
     "metadata": {},
     "output_type": "execute_result"
    }
   ],
   "source": [
    "def poissonnLL(lamb):\n",
    "    pnegll = poissonNegLogLikelihood(lamb[0], fridgedata.x)\n",
    "    return pnegll\n",
    "\n",
    "resultp = so.minimize(poissonnLL, x0=[30], method=\"Powell\")\n",
    "resultp.x"
   ]
  },
  {
   "cell_type": "markdown",
   "metadata": {
    "id": "EM0STEHneMEx"
   },
   "source": [
    "Value of $\\lambda$ that minimizes the negative log-likelihood: 30.82000019"
   ]
  },
  {
   "cell_type": "markdown",
   "metadata": {
    "id": "JQOgIrGgdJVk"
   },
   "source": [
    "9. Determine the set of values of $\\mu$ and $\\sigma$ that minimizes the negative log-likelihood for the Normal distribution."
   ]
  },
  {
   "cell_type": "code",
   "execution_count": 11,
   "metadata": {
    "id": "nZp9hNeQdJg3"
   },
   "outputs": [
    {
     "data": {
      "text/plain": [
       "array([30.8205512 ,  7.34768916])"
      ]
     },
     "execution_count": 11,
     "metadata": {},
     "output_type": "execute_result"
    }
   ],
   "source": [
    "def normalnLL(param):\n",
    "    normnegll = normalNegLogLikelihood(param, fridgedata.x)\n",
    "    return normnegll\n",
    "\n",
    "resultn = so.minimize(normalnLL, x0 = [1,1], method=\"Powell\")\n",
    "resultn.x"
   ]
  },
  {
   "cell_type": "markdown",
   "metadata": {
    "id": "b7PTnZ-xeTgl"
   },
   "source": [
    "Values for $\\mu$ and $\\sigma$ that minimize the negative log-likelihood: 30.8205512, 7.34768916\n"
   ]
  },
  {
   "cell_type": "markdown",
   "metadata": {
    "id": "VLxocRaqdKO7"
   },
   "source": [
    "10. There are three data entry errors that could potentially be valid entries. Which three are most likely to be data entry errors? Identify them by their value (i.e., not their index in the data)."
   ]
  },
  {
   "cell_type": "code",
   "execution_count": 12,
   "metadata": {
    "id": "SW53VxX9dKZE"
   },
   "outputs": [
    {
     "name": "stdout",
     "output_type": "stream",
     "text": [
      "[np.float64(4.378835199628791), np.float64(4.106688823020414), np.float64(2.882030128282716), np.float64(1.7934446218492064), np.float64(1.7934446218492064), np.float64(1.6573714335450178), np.float64(1.3852250569366404), np.float64(1.2491518686324519), np.float64(1.113078680328263), np.float64(1.113078680328263), np.float64(0.9770054920240745), np.float64(0.9770054920240745), np.float64(0.8409323037198858), np.float64(0.8409323037198858), np.float64(0.8409323037198858), np.float64(0.7048591154156972), np.float64(0.7048591154156972), np.float64(0.7048591154156972), np.float64(0.5687859271115085), np.float64(0.5687859271115085), np.float64(0.43271273880731986), np.float64(0.43271273880731986), np.float64(0.43271273880731986), np.float64(0.43271273880731986), np.float64(0.43271273880731986), np.float64(0.43271273880731986), np.float64(0.43271273880731986), np.float64(0.43271273880731986), np.float64(0.29663955050313123), np.float64(0.29663955050313123), np.float64(0.29663955050313123), np.float64(0.29663955050313123), np.float64(0.29663955050313123), np.float64(0.16056636219894257), np.float64(0.16056636219894257), np.float64(0.16056636219894257), np.float64(0.16056636219894257), np.float64(0.16056636219894257), np.float64(0.16056636219894257), np.float64(0.02449317389475392), np.float64(0.02449317389475392), np.float64(0.02449317389475392), np.float64(0.02449317389475392), np.float64(0.02449317389475392), np.float64(0.02449317389475392), np.float64(0.02449317389475392), np.float64(-0.11158001440943474), np.float64(-0.11158001440943474), np.float64(-0.11158001440943474), np.float64(-0.11158001440943474), np.float64(-0.2476532027136234), np.float64(-0.2476532027136234), np.float64(-0.2476532027136234), np.float64(-0.2476532027136234), np.float64(-0.2476532027136234), np.float64(-0.2476532027136234), np.float64(-0.2476532027136234), np.float64(-0.2476532027136234), np.float64(-0.38372639101781203), np.float64(-0.38372639101781203), np.float64(-0.38372639101781203), np.float64(-0.38372639101781203), np.float64(-0.38372639101781203), np.float64(-0.38372639101781203), np.float64(-0.38372639101781203), np.float64(-0.38372639101781203), np.float64(-0.38372639101781203), np.float64(-0.38372639101781203), np.float64(-0.38372639101781203), np.float64(-0.5197995793220007), np.float64(-0.5197995793220007), np.float64(-0.5197995793220007), np.float64(-0.5197995793220007), np.float64(-0.5197995793220007), np.float64(-0.5197995793220007), np.float64(-0.6558727676261894), np.float64(-0.6558727676261894), np.float64(-0.6558727676261894), np.float64(-0.6558727676261894), np.float64(-0.791945955930378), np.float64(-0.791945955930378), np.float64(-0.791945955930378), np.float64(-0.791945955930378), np.float64(-0.791945955930378), np.float64(-0.791945955930378), np.float64(-0.791945955930378), np.float64(-0.9280191442345667), np.float64(-0.9280191442345667), np.float64(-0.9280191442345667), np.float64(-0.9280191442345667), np.float64(-1.0640923325387552), np.float64(-1.200165520842944), np.float64(-1.200165520842944), np.float64(-1.200165520842944), np.float64(-1.3362387091471326), np.float64(-1.4723118974513214), np.float64(-1.4723118974513214), np.float64(-1.4723118974513214), np.float64(-1.60838508575551), np.float64(-1.60838508575551)]\n",
      "[63.0, 61.0, 52.0, 44.0, 44.0, 43.0, 41.0, 40.0, 39.0, 39.0, 38.0, 38.0, 37.0, 37.0, 37.0, 36.0, 36.0, 36.0, 35.0, 35.0, 34.0, 34.0, 34.0, 34.0, 34.0, 34.0, 34.0, 34.0, 33.0, 33.0, 33.0, 33.0, 33.0, 32.0, 32.0, 32.0, 32.0, 32.0, 32.0, 31.0, 31.0, 31.0, 31.0, 31.0, 31.0, 31.0, 30.0, 30.0, 30.0, 30.0, 29.0, 29.0, 29.0, 29.0, 29.0, 29.0, 29.0, 29.0, 28.0, 28.0, 28.0, 28.0, 28.0, 28.0, 28.0, 28.0, 28.0, 28.0, 28.0, 27.0, 27.0, 27.0, 27.0, 27.0, 27.0, 26.0, 26.0, 26.0, 26.0, 25.0, 25.0, 25.0, 25.0, 25.0, 25.0, 25.0, 24.0, 24.0, 24.0, 24.0, 23.0, 22.0, 22.0, 22.0, 21.0, 20.0, 20.0, 20.0, 19.0, 19.0]\n"
     ]
    }
   ],
   "source": [
    "\n",
    "zscores2 = list(zscore(fridgedata.x))\n",
    "print(sorted(zscores2, reverse=True))\n",
    "\n",
    "# The three possible data entry errors are the three largest values in the data set\n",
    "\n",
    "print(sorted(fridgedata.x, reverse=True))\n",
    "\n",
    "\n"
   ]
  },
  {
   "cell_type": "markdown",
   "metadata": {
    "id": "l5DEGf_1emZ8"
   },
   "source": [
    "Three most likely data entry errors: 63, 61, and 52"
   ]
  },
  {
   "cell_type": "markdown",
   "metadata": {
    "id": "mA_KIj6tdj9N"
   },
   "source": [
    "11. Remove the three observations that you think are most likely to be data entry errors. Determine the parameters that minimize the negative log-likelihoods for the Poisson($\\lambda$) and Normal($\\mu$, $\\sigma$) distributions. Do your results change in a meaningful way?"
   ]
  },
  {
   "cell_type": "code",
   "execution_count": 13,
   "metadata": {
    "id": "LEcn4ZhEe1jb"
   },
   "outputs": [
    {
     "name": "stdout",
     "output_type": "stream",
     "text": [
      "[29.958969] is the poisson lambda\n",
      "[29.95848039  5.50051597] is the mean and sigma for the normal distribution\n"
     ]
    }
   ],
   "source": [
    "fridgedata.drop(fridgedata[fridgedata.x > 51].index, inplace=True)\n",
    "resultp2 = so.minimize(poissonnLL, x0=[30], method=\"Powell\")\n",
    "print(f\"{resultp2.x} is the poisson lambda\")\n",
    "resultn2 = so.minimize(normalnLL, x0 = [1,1], method=\"Powell\")\n",
    "print(f\"{resultn2.x} is the mean and sigma for the normal distribution\")\n"
   ]
  },
  {
   "cell_type": "markdown",
   "metadata": {
    "id": "2Azp9jSSe184"
   },
   "source": [
    "The results of the parameters that minimize the log-likelihoods do not change in a meaningful way with this new subtraction of potential invalid entries."
   ]
  },
  {
   "cell_type": "markdown",
   "metadata": {
    "id": "uVBzmwL5pvqq"
   },
   "source": [
    "12. Between the Poisson and Normal models, which one do you think is best to use to represent the data? Why? Provide your answer in no more than two lines."
   ]
  },
  {
   "cell_type": "markdown",
   "metadata": {
    "id": "961gNl1Gp1ee"
   },
   "source": [
    "I would use the poisson model to represent my data because it is non-negative, similar to the data being collected. The shapes of both distributions are similar, so having it be non-negative is an added perk. "
   ]
  }
 ],
 "metadata": {
  "colab": {
   "provenance": [
    {
     "file_id": "1cuCZODCO2UhPt2wQyzt3tcO6y3iRO0QD",
     "timestamp": 1736827747029
    },
    {
     "file_id": "11M2GDQXAjsFjjVRuWaGQlFLrunfq_gmO",
     "timestamp": 1736730198357
    }
   ]
  },
  "kernelspec": {
   "display_name": "Python 3",
   "language": "python",
   "name": "python3"
  },
  "language_info": {
   "codemirror_mode": {
    "name": "ipython",
    "version": 3
   },
   "file_extension": ".py",
   "mimetype": "text/x-python",
   "name": "python",
   "nbconvert_exporter": "python",
   "pygments_lexer": "ipython3",
   "version": "3.10.11"
  }
 },
 "nbformat": 4,
 "nbformat_minor": 0
}
